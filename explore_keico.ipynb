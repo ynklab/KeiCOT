{
 "cells": [
  {
   "cell_type": "markdown",
   "metadata": {},
   "source": [
    "# Data filtering process\n",
    "- 敬語タスク評価用テストセット[keicot_base.tsv](./data/keicot_base.tsv)の元となるデータセットは、KeiCOコーパスから常体・敬体文のペアを70対収集し、それに対して手動でアノテーションを行うことで作成されている\n",
    "- アノテーションを行う前のデータフィルタリングプロセスを、参考までに以下に示す"
   ]
  },
  {
   "cell_type": "markdown",
   "metadata": {},
   "source": [
    "## 1. KeiCOコーパスのダウンロード"
   ]
  },
  {
   "cell_type": "code",
   "execution_count": 2,
   "metadata": {},
   "outputs": [
    {
     "name": "stdout",
     "output_type": "stream",
     "text": [
      "--2023-08-30 23:07:17--  https://raw.githubusercontent.com/Liumx2020/KeiCO-corpus/main/keico_corpus(forLREC)-OldVersion.csv\n",
      "Resolving raw.githubusercontent.com (raw.githubusercontent.com)... 185.199.109.133, 185.199.108.133, 185.199.110.133, ...\n",
      "Connecting to raw.githubusercontent.com (raw.githubusercontent.com)|185.199.109.133|:443... connected.\n",
      "HTTP request sent, awaiting response... 200 OK\n",
      "Length: 832609 (813K) [text/plain]\n",
      "Saving to: ‘data/keico_corpus(forLREC)-OldVersion.csv’\n",
      "\n",
      "keico_corpus(forLRE 100%[===================>] 813.09K  --.-KB/s    in 0.01s   \n",
      "\n",
      "2023-08-30 23:07:17 (77.9 MB/s) - ‘data/keico_corpus(forLREC)-OldVersion.csv’ saved [832609/832609]\n",
      "\n"
     ]
    }
   ],
   "source": [
    "# Note that the following line downloads the only version of KeiCO corpus even though the file name contains \"OldVersion\".\n",
    "!wget -P data \"https://raw.githubusercontent.com/Liumx2020/KeiCO-corpus/main/keico_corpus(forLREC)-OldVersion.csv\""
   ]
  },
  {
   "cell_type": "markdown",
   "metadata": {},
   "source": [
    "## 2. 敬体文を集める\n",
    "### 2.1 敬語レベル2のデータに絞る\n",
    "- 敬語レベル1,2が動詞敬語を含み、3は丁寧語、4は常体文（いわゆるタメ語）である\n",
    "- 敬語レベル1はフィルタアウト\n",
    "    - 文語調で日常会話とはかけ離れたもの (お出かけになられる)"
   ]
  },
  {
   "cell_type": "code",
   "execution_count": 22,
   "metadata": {},
   "outputs": [
    {
     "data": {
      "text/html": [
       "<div>\n",
       "<style scoped>\n",
       "    .dataframe tbody tr th:only-of-type {\n",
       "        vertical-align: middle;\n",
       "    }\n",
       "\n",
       "    .dataframe tbody tr th {\n",
       "        vertical-align: top;\n",
       "    }\n",
       "\n",
       "    .dataframe thead th {\n",
       "        text-align: right;\n",
       "    }\n",
       "</style>\n",
       "<table border=\"1\" class=\"dataframe\">\n",
       "  <thead>\n",
       "    <tr style=\"text-align: right;\">\n",
       "      <th></th>\n",
       "      <th>sentence</th>\n",
       "      <th>level</th>\n",
       "      <th>sh</th>\n",
       "      <th>oh</th>\n",
       "      <th>pl</th>\n",
       "      <th>field</th>\n",
       "    </tr>\n",
       "  </thead>\n",
       "  <tbody>\n",
       "    <tr>\n",
       "      <th>0</th>\n",
       "      <td>御病気なさったそうですね。回復されたのでしょうか？</td>\n",
       "      <td>1</td>\n",
       "      <td>1</td>\n",
       "      <td>0</td>\n",
       "      <td>0</td>\n",
       "      <td>挨拶</td>\n",
       "    </tr>\n",
       "    <tr>\n",
       "      <th>1</th>\n",
       "      <td>本日は温かい気候ですね。</td>\n",
       "      <td>1</td>\n",
       "      <td>1</td>\n",
       "      <td>0</td>\n",
       "      <td>0</td>\n",
       "      <td>挨拶</td>\n",
       "    </tr>\n",
       "    <tr>\n",
       "      <th>2</th>\n",
       "      <td>行ってらっしゃいませ。お気を付けて。</td>\n",
       "      <td>1</td>\n",
       "      <td>1</td>\n",
       "      <td>0</td>\n",
       "      <td>0</td>\n",
       "      <td>挨拶</td>\n",
       "    </tr>\n",
       "    <tr>\n",
       "      <th>3</th>\n",
       "      <td>皆様、御揃いでお出かけになられるのですか？</td>\n",
       "      <td>1</td>\n",
       "      <td>1</td>\n",
       "      <td>0</td>\n",
       "      <td>0</td>\n",
       "      <td>挨拶</td>\n",
       "    </tr>\n",
       "    <tr>\n",
       "      <th>4</th>\n",
       "      <td>本日はお早いのですね、お散歩ですか？</td>\n",
       "      <td>1</td>\n",
       "      <td>1</td>\n",
       "      <td>0</td>\n",
       "      <td>0</td>\n",
       "      <td>挨拶</td>\n",
       "    </tr>\n",
       "    <tr>\n",
       "      <th>5</th>\n",
       "      <td>お早うございます。本日も良いお天気ですね。</td>\n",
       "      <td>1</td>\n",
       "      <td>1</td>\n",
       "      <td>0</td>\n",
       "      <td>0</td>\n",
       "      <td>挨拶</td>\n",
       "    </tr>\n",
       "    <tr>\n",
       "      <th>6</th>\n",
       "      <td>お早うございます。早朝から御精が出ますね。</td>\n",
       "      <td>1</td>\n",
       "      <td>1</td>\n",
       "      <td>0</td>\n",
       "      <td>0</td>\n",
       "      <td>挨拶</td>\n",
       "    </tr>\n",
       "    <tr>\n",
       "      <th>7</th>\n",
       "      <td>こんにちは、お暑うございます。本日は蒸しますね。</td>\n",
       "      <td>1</td>\n",
       "      <td>1</td>\n",
       "      <td>0</td>\n",
       "      <td>0</td>\n",
       "      <td>挨拶</td>\n",
       "    </tr>\n",
       "    <tr>\n",
       "      <th>8</th>\n",
       "      <td>こんばんは、お寒うございます。随分ひえますね。</td>\n",
       "      <td>1</td>\n",
       "      <td>1</td>\n",
       "      <td>0</td>\n",
       "      <td>0</td>\n",
       "      <td>挨拶</td>\n",
       "    </tr>\n",
       "    <tr>\n",
       "      <th>9</th>\n",
       "      <td>生憎の御天気ですね。はっきりとしない生憎の御天気ですね。</td>\n",
       "      <td>1</td>\n",
       "      <td>1</td>\n",
       "      <td>0</td>\n",
       "      <td>0</td>\n",
       "      <td>挨拶</td>\n",
       "    </tr>\n",
       "  </tbody>\n",
       "</table>\n",
       "</div>"
      ],
      "text/plain": [
       "                       sentence  level  sh  oh  pl field\n",
       "0     御病気なさったそうですね。回復されたのでしょうか？      1   1   0   0    挨拶\n",
       "1                  本日は温かい気候ですね。      1   1   0   0    挨拶\n",
       "2            行ってらっしゃいませ。お気を付けて。      1   1   0   0    挨拶\n",
       "3         皆様、御揃いでお出かけになられるのですか？      1   1   0   0    挨拶\n",
       "4            本日はお早いのですね、お散歩ですか？      1   1   0   0    挨拶\n",
       "5         お早うございます。本日も良いお天気ですね。      1   1   0   0    挨拶\n",
       "6         お早うございます。早朝から御精が出ますね。      1   1   0   0    挨拶\n",
       "7      こんにちは、お暑うございます。本日は蒸しますね。      1   1   0   0    挨拶\n",
       "8       こんばんは、お寒うございます。随分ひえますね。      1   1   0   0    挨拶\n",
       "9  生憎の御天気ですね。はっきりとしない生憎の御天気ですね。      1   1   0   0    挨拶"
      ]
     },
     "execution_count": 22,
     "metadata": {},
     "output_type": "execute_result"
    }
   ],
   "source": [
    "import pandas as pd\n",
    "keico_df = pd.read_csv('./data/keico_corpus(forLREC)-OldVersion.csv', header=0, names=['sentence','level','sh','oh','pl','field'], encoding='utf-8')\n",
    "keico_df[keico_df.level == 1].head(10)"
   ]
  },
  {
   "cell_type": "code",
   "execution_count": 23,
   "metadata": {},
   "outputs": [
    {
     "data": {
      "text/html": [
       "<div>\n",
       "<style scoped>\n",
       "    .dataframe tbody tr th:only-of-type {\n",
       "        vertical-align: middle;\n",
       "    }\n",
       "\n",
       "    .dataframe tbody tr th {\n",
       "        vertical-align: top;\n",
       "    }\n",
       "\n",
       "    .dataframe thead th {\n",
       "        text-align: right;\n",
       "    }\n",
       "</style>\n",
       "<table border=\"1\" class=\"dataframe\">\n",
       "  <thead>\n",
       "    <tr style=\"text-align: right;\">\n",
       "      <th></th>\n",
       "      <th>sentence</th>\n",
       "      <th>level</th>\n",
       "      <th>sh</th>\n",
       "      <th>oh</th>\n",
       "      <th>pl</th>\n",
       "      <th>field</th>\n",
       "    </tr>\n",
       "  </thead>\n",
       "  <tbody>\n",
       "    <tr>\n",
       "      <th>280</th>\n",
       "      <td>どうぞお許しください。</td>\n",
       "      <td>2</td>\n",
       "      <td>1</td>\n",
       "      <td>0</td>\n",
       "      <td>0</td>\n",
       "      <td>謝る</td>\n",
       "    </tr>\n",
       "    <tr>\n",
       "      <th>281</th>\n",
       "      <td>こちらの間違いでご迷惑をおかけし、大変申し訳ございません。</td>\n",
       "      <td>2</td>\n",
       "      <td>1</td>\n",
       "      <td>0</td>\n",
       "      <td>0</td>\n",
       "      <td>謝る</td>\n",
       "    </tr>\n",
       "    <tr>\n",
       "      <th>282</th>\n",
       "      <td>このたびは失礼をおかけして、大変申し訳ございません。</td>\n",
       "      <td>2</td>\n",
       "      <td>1</td>\n",
       "      <td>0</td>\n",
       "      <td>0</td>\n",
       "      <td>謝る</td>\n",
       "    </tr>\n",
       "    <tr>\n",
       "      <th>283</th>\n",
       "      <td>落選は、私の力不足によるものでした。</td>\n",
       "      <td>2</td>\n",
       "      <td>1</td>\n",
       "      <td>0</td>\n",
       "      <td>0</td>\n",
       "      <td>謝る</td>\n",
       "    </tr>\n",
       "    <tr>\n",
       "      <th>284</th>\n",
       "      <td>私に免じてお許しください。</td>\n",
       "      <td>2</td>\n",
       "      <td>1</td>\n",
       "      <td>0</td>\n",
       "      <td>0</td>\n",
       "      <td>謝る</td>\n",
       "    </tr>\n",
       "    <tr>\n",
       "      <th>285</th>\n",
       "      <td>私が至らなくてこんな事態になって申し訳ないです。</td>\n",
       "      <td>2</td>\n",
       "      <td>1</td>\n",
       "      <td>0</td>\n",
       "      <td>0</td>\n",
       "      <td>謝る</td>\n",
       "    </tr>\n",
       "    <tr>\n",
       "      <th>286</th>\n",
       "      <td>お部屋の家具を全部新しくされたんですね。</td>\n",
       "      <td>2</td>\n",
       "      <td>1</td>\n",
       "      <td>0</td>\n",
       "      <td>0</td>\n",
       "      <td>改める</td>\n",
       "    </tr>\n",
       "    <tr>\n",
       "      <th>287</th>\n",
       "      <td>その方針はやめられたほうがいいと思います。</td>\n",
       "      <td>2</td>\n",
       "      <td>1</td>\n",
       "      <td>0</td>\n",
       "      <td>0</td>\n",
       "      <td>改める</td>\n",
       "    </tr>\n",
       "    <tr>\n",
       "      <th>288</th>\n",
       "      <td>息子さん帰省されたのですね今朝港でお見掛けしました。</td>\n",
       "      <td>2</td>\n",
       "      <td>1</td>\n",
       "      <td>0</td>\n",
       "      <td>0</td>\n",
       "      <td>登場</td>\n",
       "    </tr>\n",
       "    <tr>\n",
       "      <th>289</th>\n",
       "      <td>先生がご挨拶にいらっしゃいました。</td>\n",
       "      <td>2</td>\n",
       "      <td>1</td>\n",
       "      <td>0</td>\n",
       "      <td>0</td>\n",
       "      <td>登場</td>\n",
       "    </tr>\n",
       "  </tbody>\n",
       "</table>\n",
       "</div>"
      ],
      "text/plain": [
       "                          sentence  level  sh  oh  pl field\n",
       "280                    どうぞお許しください。      2   1   0   0    謝る\n",
       "281  こちらの間違いでご迷惑をおかけし、大変申し訳ございません。      2   1   0   0    謝る\n",
       "282     このたびは失礼をおかけして、大変申し訳ございません。      2   1   0   0    謝る\n",
       "283             落選は、私の力不足によるものでした。      2   1   0   0    謝る\n",
       "284                  私に免じてお許しください。      2   1   0   0    謝る\n",
       "285       私が至らなくてこんな事態になって申し訳ないです。      2   1   0   0    謝る\n",
       "286           お部屋の家具を全部新しくされたんですね。      2   1   0   0   改める\n",
       "287          その方針はやめられたほうがいいと思います。      2   1   0   0   改める\n",
       "288     息子さん帰省されたのですね今朝港でお見掛けしました。      2   1   0   0    登場\n",
       "289              先生がご挨拶にいらっしゃいました。      2   1   0   0    登場"
      ]
     },
     "execution_count": 23,
     "metadata": {},
     "output_type": "execute_result"
    }
   ],
   "source": [
    "keico_df[keico_df.level == 2].head(10)"
   ]
  },
  {
   "cell_type": "code",
   "execution_count": 25,
   "metadata": {},
   "outputs": [
    {
     "data": {
      "text/plain": [
       "2046"
      ]
     },
     "execution_count": 25,
     "metadata": {},
     "output_type": "execute_result"
    }
   ],
   "source": [
    "keico_df_honorifics = keico_df[keico_df.level == 2]\n",
    "len(keico_df_honorifics)"
   ]
  },
  {
   "cell_type": "markdown",
   "metadata": {},
   "source": [
    "### 2.2 フィールドを絞る\n",
    "- ルールに基づいて活用をする動詞敬語を用いて分析したいので、定型表現の多そうな分野（「挨拶」など）は避ける\n",
    "- できるだけ一般的なシチュエーションに絞る\n",
    "- 謙譲語データを含みたい"
   ]
  },
  {
   "cell_type": "code",
   "execution_count": 26,
   "metadata": {},
   "outputs": [
    {
     "data": {
      "text/plain": [
       "array(['謝る', '改める', '登場', '歩く', '安心', '言う', '家', '怒る', '客', '挨拶', 'あいづち',\n",
       "       'アイデア', '会う', '赤ちゃん', '遊ぶ', '季節', '集まる', '応募', '遠慮', '選ぶ', '受付',\n",
       "       '祝う', '関係', '関心', '管理', '金', '返す', '帰る', '書く', '確認', '買う', '学校',\n",
       "       'がっかり', '勝つ', 'お参り', 'お礼', '終わり', '獲得', 'メール', '送る', '教える', '驚く',\n",
       "       '聞く', '嫌う', '着る', '暮らし向き', '計画', '公', '困る', 'いる', '探す', '作業', '心',\n",
       "       '言葉', '断る', '作品', '裁く', '自覚', '叱る', '仕事', '知っている', '質問', '死ぬ',\n",
       "       '支配', '準備', '招待', '食', '計算', '契約', '研究', '検討する', '体', '電話', '取り込む',\n",
       "       '逃げる', '願う', '態度', '助ける', '楽しむ', '体格', '体験', '体調', '席', '相談', '贈答',\n",
       "       '見る', '任せる', '待つ', '店', '別れる', '服を仕立てる', '謙る', '報告', '訪問', '褒める',\n",
       "       '頼む', '忠告', '付き合う', '伝える', '調べる', '信じる', '心配', '好き', '反論', 'ひま',\n",
       "       '秘密', '病状', '勧める', 'スポーツ', 'する', 'ねぎらう', '恥ずかしい', 'わかる', '行く',\n",
       "       '政治的講演', '手紙', 'お知らせ', '急ぐ'], dtype=object)"
      ]
     },
     "execution_count": 26,
     "metadata": {},
     "output_type": "execute_result"
    }
   ],
   "source": [
    "keico_df_honorifics.field.unique()"
   ]
  },
  {
   "cell_type": "code",
   "execution_count": 27,
   "metadata": {},
   "outputs": [
    {
     "name": "stdout",
     "output_type": "stream",
     "text": [
      "(124, 6)\n",
      "(102, 6)\n",
      "(22, 6)\n"
     ]
    }
   ],
   "source": [
    "df_filtered = keico_df_honorifics[\n",
    "    (keico_df_honorifics.field == '遊ぶ') \\\n",
    "    | (keico_df_honorifics.field == '集まる') \\\n",
    "    | (keico_df_honorifics.field == '聞く') \\\n",
    "    | (keico_df_honorifics.field == '選ぶ') \\\n",
    "    | (keico_df_honorifics.field == '伝える') \\\n",
    "    | (keico_df_honorifics.field == '返す') \\\n",
    "    | (keico_df_honorifics.field == '帰る') \\\n",
    "    | (keico_df_honorifics.field == '頼む') \\\n",
    "    | (keico_df_honorifics.field == '驚く') \\\n",
    "    | (keico_df_honorifics.field == '心配') \\\n",
    "    | (keico_df_honorifics.field == '褒める') \\\n",
    "]\n",
    "print(df_filtered.shape)\n",
    "print(df_filtered[df_filtered.sh == 1].shape)\n",
    "print(df_filtered[df_filtered.oh == 1].shape)"
   ]
  },
  {
   "cell_type": "markdown",
   "metadata": {},
   "source": [
    "## 3. 常体文を集める\n",
    "- KeiCOコーパスは対訳コーパスではないが、「敬語レベルが異なるが元の文は同じ」データが多い\n",
    "- 敬体文の収集と同じフィールド条件でフィルタリングし、敬体文とアラインすることで対訳データ対を作成する\n",
    "    - 敬語レベル4（常体文）は167件あったので、対応する敬体文が見つからない43件をドロップした"
   ]
  },
  {
   "cell_type": "code",
   "execution_count": 29,
   "metadata": {},
   "outputs": [
    {
     "name": "stdout",
     "output_type": "stream",
     "text": [
      "<class 'pandas.core.frame.DataFrame'>\n",
      "Int64Index: 167 entries, 4859 to 10004\n",
      "Data columns (total 6 columns):\n",
      " #   Column    Non-Null Count  Dtype \n",
      "---  ------    --------------  ----- \n",
      " 0   sentence  167 non-null    object\n",
      " 1   level     167 non-null    int64 \n",
      " 2   sh        167 non-null    int64 \n",
      " 3   oh        167 non-null    int64 \n",
      " 4   pl        167 non-null    int64 \n",
      " 5   field     167 non-null    object\n",
      "dtypes: int64(4), object(2)\n",
      "memory usage: 9.1+ KB\n"
     ]
    },
    {
     "name": "stderr",
     "output_type": "stream",
     "text": [
      "/tmp/ipykernel_468621/3805043312.py:1: UserWarning: Boolean Series key will be reindexed to match DataFrame index.\n",
      "  keico_df_regular = keico_df[keico_df.level == 4][\n"
     ]
    }
   ],
   "source": [
    "keico_df_regular = keico_df[keico_df.level == 4][\n",
    "    (keico_df.field == '遊ぶ') \\\n",
    "    | (keico_df.field == '集まる') \\\n",
    "    | (keico_df.field == '聞く') \\\n",
    "    | (keico_df.field == '選ぶ') \\\n",
    "    | (keico_df.field == '伝える') \\\n",
    "    | (keico_df.field == '返す') \\\n",
    "    | (keico_df.field == '帰る') \\\n",
    "    | (keico_df.field == '頼む') \\\n",
    "    | (keico_df.field == '驚く') \\\n",
    "    | (keico_df.field == '心配') \\\n",
    "    | (keico_df.field == '褒める') \\\n",
    "]\n",
    "keico_df_regular.info()"
   ]
  },
  {
   "cell_type": "markdown",
   "metadata": {},
   "source": [
    "## 4. 手動での修正\n",
    "- 最終的に、124件のデータに対して追加の目視によるフィルタリングや修正を行い、70件のデータ対を得た\n",
    "- 除外基準\n",
    "    1. 名詞敬語（「お相子」）\n",
    "    2. 状況や立場の条件を問わず使用される定型表現 (「よろしくお願いいたします」)\n",
    "    3. 文語すぎる (「午前様」)\n",
    "    4. 敬語が含まれていない\n",
    "    5. 二者間ではない\n",
    "- 修正基準\n",
    "    1. 文語体　（「いらっしやいます」）\n",
    "    2. 一貫性が低い （「さぞ驚かれたことと思います。驚かれるのは無理もないわ。」）"
   ]
  }
 ],
 "metadata": {
  "kernelspec": {
   "display_name": ".env",
   "language": "python",
   "name": "python3"
  },
  "language_info": {
   "codemirror_mode": {
    "name": "ipython",
    "version": 3
   },
   "file_extension": ".py",
   "mimetype": "text/x-python",
   "name": "python",
   "nbconvert_exporter": "python",
   "pygments_lexer": "ipython3",
   "version": "3.10.10"
  },
  "orig_nbformat": 4
 },
 "nbformat": 4,
 "nbformat_minor": 2
}
